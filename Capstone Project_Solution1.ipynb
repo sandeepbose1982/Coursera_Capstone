{
    "cells": [
        {
            "cell_type": "markdown",
            "metadata": {},
            "source": "# Capstone Project_Solution1"
        },
        {
            "cell_type": "markdown",
            "metadata": {},
            "source": "#### Import Libraries"
        },
        {
            "cell_type": "code",
            "execution_count": 1,
            "metadata": {},
            "outputs": [
                {
                    "name": "stdout",
                    "output_type": "stream",
                    "text": "Libraries imported\n"
                }
            ],
            "source": "import numpy as np\nimport pandas as pd\nimport requests\nimport lxml.html as lh\nprint('Libraries imported')"
        },
        {
            "cell_type": "markdown",
            "metadata": {},
            "source": "#### Web scraping"
        },
        {
            "cell_type": "code",
            "execution_count": 2,
            "metadata": {},
            "outputs": [],
            "source": "#Toronto Wikipedia link\nurl='https://en.wikipedia.org/w/index.php?title=List_of_postal_codes_of_Canada:_M&direction=prev&oldid=946126446'\n#getting content from the html page\npage_content = lh.fromstring(requests.get(url).content)\n#accessing the table data\ntable_data = page_content.xpath(\"//tr\")"
        },
        {
            "cell_type": "markdown",
            "metadata": {},
            "source": "#### Create Table Headers"
        },
        {
            "cell_type": "code",
            "execution_count": 3,
            "metadata": {},
            "outputs": [],
            "source": "column_names = ['Postalcode','Borough','Neighborhood']\ndf = pd.DataFrame(columns = column_names)"
        },
        {
            "cell_type": "code",
            "execution_count": 4,
            "metadata": {},
            "outputs": [
                {
                    "name": "stdout",
                    "output_type": "stream",
                    "text": "1 Postcode\n2 Borough\n3 Neighbourhood\n"
                }
            ],
            "source": "toronto_data=[]\ncol_ind=0\n\n#Creating header with empty list to add list of values under each column, replace new line character\nfor th in table_data[0]:\n    col_ind+=1\n    header=str(th.text_content()).replace('\\n','')\n    print (col_ind,header)\n    toronto_data.append((header,[]))\n    #print(toronto_data)"
        },
        {
            "cell_type": "markdown",
            "metadata": {},
            "source": "#### Cleanse Data"
        },
        {
            "cell_type": "code",
            "execution_count": 5,
            "metadata": {},
            "outputs": [],
            "source": "for td in range(1,len(table_data)):\n    row=table_data[td]\n    \n    #Exclude if the row length is not 3\n    if len(row) != 3:\n      break\n    \n    col_ind=0\n  \n    #Iterating through each element of the row, replace new line character\n    for val in row.iterchildren():\n        data=str(val.text_content()).replace('\\n','')\n        #Append the data after header\n        toronto_data[col_ind][1].append(data)\n        #Increment i for next column\n        col_ind+=1\n\n#print(toronto_data)\n#print(len(toronto_data))\n#print([len(rows) for (i,rows) in toronto_data])"
        },
        {
            "cell_type": "code",
            "execution_count": 6,
            "metadata": {},
            "outputs": [
                {
                    "data": {
                        "text/html": "<div>\n<style scoped>\n    .dataframe tbody tr th:only-of-type {\n        vertical-align: middle;\n    }\n\n    .dataframe tbody tr th {\n        vertical-align: top;\n    }\n\n    .dataframe thead th {\n        text-align: right;\n    }\n</style>\n<table border=\"1\" class=\"dataframe\">\n  <thead>\n    <tr style=\"text-align: right;\">\n      <th></th>\n      <th>Postcode</th>\n      <th>Borough</th>\n      <th>Neighbourhood</th>\n    </tr>\n  </thead>\n  <tbody>\n    <tr>\n      <th>0</th>\n      <td>M3A</td>\n      <td>North York</td>\n      <td>Parkwoods</td>\n    </tr>\n    <tr>\n      <th>1</th>\n      <td>M4A</td>\n      <td>North York</td>\n      <td>Victoria Village</td>\n    </tr>\n    <tr>\n      <th>2</th>\n      <td>M5A</td>\n      <td>Downtown Toronto</td>\n      <td>Harbourfront</td>\n    </tr>\n    <tr>\n      <th>3</th>\n      <td>M6A</td>\n      <td>North York</td>\n      <td>Lawrence Heights</td>\n    </tr>\n    <tr>\n      <th>4</th>\n      <td>M6A</td>\n      <td>North York</td>\n      <td>Lawrence Manor</td>\n    </tr>\n  </tbody>\n</table>\n</div>",
                        "text/plain": "  Postcode           Borough     Neighbourhood\n0      M3A        North York         Parkwoods\n1      M4A        North York  Victoria Village\n2      M5A  Downtown Toronto      Harbourfront\n3      M6A        North York  Lawrence Heights\n4      M6A        North York    Lawrence Manor"
                    },
                    "execution_count": 6,
                    "metadata": {},
                    "output_type": "execute_result"
                }
            ],
            "source": "#Creating a Pandas Data Frame\ntoronto_struct={header:rows for (header,rows) in toronto_data}\ntoronto_df=pd.DataFrame(toronto_struct)\n\n#Dropping rows with Borough value of Not assigned and resetting the index\ntoronto_df = toronto_df.drop(toronto_df.index[toronto_df['Borough'] == 'Not assigned']).reset_index(drop = True)\n\n#print(toronto_df.shape)\ntoronto_df.head()"
        },
        {
            "cell_type": "code",
            "execution_count": 7,
            "metadata": {},
            "outputs": [
                {
                    "data": {
                        "text/html": "<div>\n<style scoped>\n    .dataframe tbody tr th:only-of-type {\n        vertical-align: middle;\n    }\n\n    .dataframe tbody tr th {\n        vertical-align: top;\n    }\n\n    .dataframe thead th {\n        text-align: right;\n    }\n</style>\n<table border=\"1\" class=\"dataframe\">\n  <thead>\n    <tr style=\"text-align: right;\">\n      <th></th>\n      <th>Postcode</th>\n      <th>Borough</th>\n      <th>Neighbourhood</th>\n    </tr>\n  </thead>\n  <tbody>\n    <tr>\n      <th>0</th>\n      <td>M1B</td>\n      <td>Scarborough</td>\n      <td>Rouge,Malvern</td>\n    </tr>\n    <tr>\n      <th>1</th>\n      <td>M1C</td>\n      <td>Scarborough</td>\n      <td>Highland Creek,Rouge Hill,Port Union</td>\n    </tr>\n    <tr>\n      <th>2</th>\n      <td>M1E</td>\n      <td>Scarborough</td>\n      <td>Guildwood,Morningside,West Hill</td>\n    </tr>\n    <tr>\n      <th>3</th>\n      <td>M1G</td>\n      <td>Scarborough</td>\n      <td>Woburn</td>\n    </tr>\n    <tr>\n      <th>4</th>\n      <td>M1H</td>\n      <td>Scarborough</td>\n      <td>Cedarbrae</td>\n    </tr>\n  </tbody>\n</table>\n</div>",
                        "text/plain": "  Postcode      Borough                         Neighbourhood\n0      M1B  Scarborough                         Rouge,Malvern\n1      M1C  Scarborough  Highland Creek,Rouge Hill,Port Union\n2      M1E  Scarborough       Guildwood,Morningside,West Hill\n3      M1G  Scarborough                                Woburn\n4      M1H  Scarborough                             Cedarbrae"
                    },
                    "execution_count": 7,
                    "metadata": {},
                    "output_type": "execute_result"
                }
            ],
            "source": "#Grouping Neighbourhoods by Postal codes\ntoronto_df = toronto_df.groupby(['Postcode', 'Borough'])['Neighbourhood'].apply(','.join).reset_index()\n\n#Replacing Neighbourhood with Not Assigned with name of Borough\ntoronto_df.loc[toronto_df['Neighbourhood'] == 'Not assigned', 'Neighbourhood'] = toronto_df['Borough']\n\n#print(toronto_df[toronto_df['Borough'] == 'Queen\\'s Park'])\ntoronto_df.head()"
        },
        {
            "cell_type": "code",
            "execution_count": 8,
            "metadata": {},
            "outputs": [
                {
                    "data": {
                        "text/plain": "(103, 3)"
                    },
                    "execution_count": 8,
                    "metadata": {},
                    "output_type": "execute_result"
                }
            ],
            "source": "toronto_df.shape"
        },
        {
            "cell_type": "code",
            "execution_count": 9,
            "metadata": {},
            "outputs": [],
            "source": "#Creating a csv file of the data to use in Part - 2 of the project\ntoronto_df.to_csv(r'toronto_data.csv', index=False)"
        }
    ],
    "metadata": {
        "kernelspec": {
            "display_name": "Python 3.7",
            "language": "python",
            "name": "python3"
        },
        "language_info": {
            "codemirror_mode": {
                "name": "ipython",
                "version": 3
            },
            "file_extension": ".py",
            "mimetype": "text/x-python",
            "name": "python",
            "nbconvert_exporter": "python",
            "pygments_lexer": "ipython3",
            "version": "3.7.10"
        }
    },
    "nbformat": 4,
    "nbformat_minor": 1
}